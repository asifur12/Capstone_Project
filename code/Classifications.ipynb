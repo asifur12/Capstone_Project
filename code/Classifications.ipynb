{
 "cells": [
  {
   "cell_type": "code",
   "execution_count": 65,
   "id": "2790d88a-b5f2-4808-a637-cc34fa749be0",
   "metadata": {},
   "outputs": [],
   "source": [
    "import pandas as pd\n",
    "import numpy as np\n",
    "import matplotlib.pyplot as plt\n",
    "import seaborn as sns\n",
    "\n",
    "\n",
    "\n",
    "from sklearn.model_selection import train_test_split, cross_val_score\n",
    "from sklearn.linear_model import LinearRegression, LogisticRegression\n",
    "from sklearn.preprocessing import StandardScaler\n",
    "from sklearn.neighbors import KNeighborsRegressor, KNeighborsClassifier\n",
    "from sklearn.tree import DecisionTreeRegressor,DecisionTreeClassifier\n",
    "from sklearn.ensemble import BaggingRegressor, BaggingClassifier, RandomForestClassifier, RandomForestRegressor\n",
    "from sklearn.ensemble import AdaBoostRegressor, AdaBoostClassifier\n",
    "from sklearn import svm\n",
    "\n",
    "from sklearn import metrics\n",
    "from sklearn.metrics import confusion_matrix, classification_report, accuracy_score, precision_score, recall_score,mean_squared_error, f1_score\n",
    "from sklearn.model_selection import GridSearchCV\n",
    "\n",
    "from sklearn.ensemble import AdaBoostClassifier, GradientBoostingClassifier\n",
    "#from xgboost import XGBClassifier\n",
    "from sklearn.ensemble import StackingClassifier\n",
    "\n",
    "import warnings\n",
    "warnings.filterwarnings('ignore')"
   ]
  },
  {
   "cell_type": "code",
   "execution_count": 66,
   "id": "4abf5c3e-c0ea-4ce9-8a09-21c5f0fba44a",
   "metadata": {},
   "outputs": [],
   "source": [
    "df = pd.read_csv('all_combined_annual_death_by_cause.csv')"
   ]
  },
  {
   "cell_type": "code",
   "execution_count": 67,
   "id": "327bbd3c-d1bd-4177-82c2-836d97ab182f",
   "metadata": {},
   "outputs": [
    {
     "data": {
      "text/html": [
       "<div>\n",
       "<style scoped>\n",
       "    .dataframe tbody tr th:only-of-type {\n",
       "        vertical-align: middle;\n",
       "    }\n",
       "\n",
       "    .dataframe tbody tr th {\n",
       "        vertical-align: top;\n",
       "    }\n",
       "\n",
       "    .dataframe thead th {\n",
       "        text-align: right;\n",
       "    }\n",
       "</style>\n",
       "<table border=\"1\" class=\"dataframe\">\n",
       "  <thead>\n",
       "    <tr style=\"text-align: right;\">\n",
       "      <th></th>\n",
       "      <th>country</th>\n",
       "      <th>code</th>\n",
       "      <th>year</th>\n",
       "      <th>meningitis</th>\n",
       "      <th>neoplasms</th>\n",
       "      <th>fire_heat_hot_substances</th>\n",
       "      <th>malaria</th>\n",
       "      <th>drowing</th>\n",
       "      <th>interpersonal_violence</th>\n",
       "      <th>hiv_aids</th>\n",
       "      <th>...</th>\n",
       "      <th>chronic_kidney_disease</th>\n",
       "      <th>chronic_respiratory_deasease</th>\n",
       "      <th>cirrohosis_liver_deasease</th>\n",
       "      <th>digestive_disease</th>\n",
       "      <th>acute_hepatitis</th>\n",
       "      <th>alzhimers_disease</th>\n",
       "      <th>parkinsons_disease</th>\n",
       "      <th>PopTotal</th>\n",
       "      <th>gdp-per-capita</th>\n",
       "      <th>continent</th>\n",
       "    </tr>\n",
       "  </thead>\n",
       "  <tbody>\n",
       "    <tr>\n",
       "      <th>0</th>\n",
       "      <td>Afghanistan</td>\n",
       "      <td>AFG</td>\n",
       "      <td>2007</td>\n",
       "      <td>2932.558591</td>\n",
       "      <td>15924.782541</td>\n",
       "      <td>481.219817</td>\n",
       "      <td>392.942607</td>\n",
       "      <td>2126.788535</td>\n",
       "      <td>3657.205757</td>\n",
       "      <td>148.276329</td>\n",
       "      <td>...</td>\n",
       "      <td>4490.174240</td>\n",
       "      <td>7221.773068</td>\n",
       "      <td>3345.814979</td>\n",
       "      <td>6457.753476</td>\n",
       "      <td>3437.0</td>\n",
       "      <td>1402.0</td>\n",
       "      <td>450.0</td>\n",
       "      <td>27100.542</td>\n",
       "      <td>1460.825751</td>\n",
       "      <td>Asia</td>\n",
       "    </tr>\n",
       "    <tr>\n",
       "      <th>1</th>\n",
       "      <td>Afghanistan</td>\n",
       "      <td>AFG</td>\n",
       "      <td>2008</td>\n",
       "      <td>2730.846137</td>\n",
       "      <td>16147.839026</td>\n",
       "      <td>462.180576</td>\n",
       "      <td>254.703403</td>\n",
       "      <td>1973.375893</td>\n",
       "      <td>3784.702895</td>\n",
       "      <td>157.401135</td>\n",
       "      <td>...</td>\n",
       "      <td>4533.825139</td>\n",
       "      <td>7142.796656</td>\n",
       "      <td>3316.354776</td>\n",
       "      <td>6407.964590</td>\n",
       "      <td>3005.0</td>\n",
       "      <td>1424.0</td>\n",
       "      <td>455.0</td>\n",
       "      <td>27722.281</td>\n",
       "      <td>1484.114461</td>\n",
       "      <td>Asia</td>\n",
       "    </tr>\n",
       "    <tr>\n",
       "      <th>2</th>\n",
       "      <td>Afghanistan</td>\n",
       "      <td>AFG</td>\n",
       "      <td>2009</td>\n",
       "      <td>2460.186423</td>\n",
       "      <td>16382.558546</td>\n",
       "      <td>448.300264</td>\n",
       "      <td>239.035635</td>\n",
       "      <td>1852.155239</td>\n",
       "      <td>3874.099828</td>\n",
       "      <td>167.270695</td>\n",
       "      <td>...</td>\n",
       "      <td>4596.974422</td>\n",
       "      <td>7045.249090</td>\n",
       "      <td>3291.158847</td>\n",
       "      <td>6358.027600</td>\n",
       "      <td>2663.0</td>\n",
       "      <td>1449.0</td>\n",
       "      <td>460.0</td>\n",
       "      <td>28394.806</td>\n",
       "      <td>1758.904477</td>\n",
       "      <td>Asia</td>\n",
       "    </tr>\n",
       "    <tr>\n",
       "      <th>3</th>\n",
       "      <td>Afghanistan</td>\n",
       "      <td>AFG</td>\n",
       "      <td>2011</td>\n",
       "      <td>2326.767573</td>\n",
       "      <td>17093.515668</td>\n",
       "      <td>447.884354</td>\n",
       "      <td>390.060248</td>\n",
       "      <td>1774.968476</td>\n",
       "      <td>4169.873038</td>\n",
       "      <td>183.816343</td>\n",
       "      <td>...</td>\n",
       "      <td>4784.629776</td>\n",
       "      <td>6915.563606</td>\n",
       "      <td>3317.891662</td>\n",
       "      <td>6370.000383</td>\n",
       "      <td>2365.0</td>\n",
       "      <td>1508.0</td>\n",
       "      <td>473.0</td>\n",
       "      <td>30117.411</td>\n",
       "      <td>1904.559926</td>\n",
       "      <td>Asia</td>\n",
       "    </tr>\n",
       "    <tr>\n",
       "      <th>4</th>\n",
       "      <td>Afghanistan</td>\n",
       "      <td>AFG</td>\n",
       "      <td>2012</td>\n",
       "      <td>2254.492968</td>\n",
       "      <td>17521.930189</td>\n",
       "      <td>445.226412</td>\n",
       "      <td>93.894201</td>\n",
       "      <td>1715.864705</td>\n",
       "      <td>4244.671108</td>\n",
       "      <td>190.525008</td>\n",
       "      <td>...</td>\n",
       "      <td>4845.667028</td>\n",
       "      <td>6877.511217</td>\n",
       "      <td>3352.846566</td>\n",
       "      <td>6398.171770</td>\n",
       "      <td>2264.0</td>\n",
       "      <td>1544.0</td>\n",
       "      <td>482.0</td>\n",
       "      <td>31161.378</td>\n",
       "      <td>2075.491614</td>\n",
       "      <td>Asia</td>\n",
       "    </tr>\n",
       "  </tbody>\n",
       "</table>\n",
       "<p>5 rows × 37 columns</p>\n",
       "</div>"
      ],
      "text/plain": [
       "       country code  year   meningitis     neoplasms  \\\n",
       "0  Afghanistan  AFG  2007  2932.558591  15924.782541   \n",
       "1  Afghanistan  AFG  2008  2730.846137  16147.839026   \n",
       "2  Afghanistan  AFG  2009  2460.186423  16382.558546   \n",
       "3  Afghanistan  AFG  2011  2326.767573  17093.515668   \n",
       "4  Afghanistan  AFG  2012  2254.492968  17521.930189   \n",
       "\n",
       "   fire_heat_hot_substances     malaria      drowing  interpersonal_violence  \\\n",
       "0                481.219817  392.942607  2126.788535             3657.205757   \n",
       "1                462.180576  254.703403  1973.375893             3784.702895   \n",
       "2                448.300264  239.035635  1852.155239             3874.099828   \n",
       "3                447.884354  390.060248  1774.968476             4169.873038   \n",
       "4                445.226412   93.894201  1715.864705             4244.671108   \n",
       "\n",
       "     hiv_aids  ...  chronic_kidney_disease  chronic_respiratory_deasease  \\\n",
       "0  148.276329  ...             4490.174240                   7221.773068   \n",
       "1  157.401135  ...             4533.825139                   7142.796656   \n",
       "2  167.270695  ...             4596.974422                   7045.249090   \n",
       "3  183.816343  ...             4784.629776                   6915.563606   \n",
       "4  190.525008  ...             4845.667028                   6877.511217   \n",
       "\n",
       "   cirrohosis_liver_deasease  digestive_disease  acute_hepatitis  \\\n",
       "0                3345.814979        6457.753476           3437.0   \n",
       "1                3316.354776        6407.964590           3005.0   \n",
       "2                3291.158847        6358.027600           2663.0   \n",
       "3                3317.891662        6370.000383           2365.0   \n",
       "4                3352.846566        6398.171770           2264.0   \n",
       "\n",
       "   alzhimers_disease  parkinsons_disease   PopTotal  gdp-per-capita  continent  \n",
       "0             1402.0               450.0  27100.542     1460.825751       Asia  \n",
       "1             1424.0               455.0  27722.281     1484.114461       Asia  \n",
       "2             1449.0               460.0  28394.806     1758.904477       Asia  \n",
       "3             1508.0               473.0  30117.411     1904.559926       Asia  \n",
       "4             1544.0               482.0  31161.378     2075.491614       Asia  \n",
       "\n",
       "[5 rows x 37 columns]"
      ]
     },
     "execution_count": 67,
     "metadata": {},
     "output_type": "execute_result"
    }
   ],
   "source": [
    "df.head()"
   ]
  },
  {
   "cell_type": "code",
   "execution_count": 68,
   "id": "4e53a6c3-200c-49bd-9d51-a5dfcf70b4b3",
   "metadata": {},
   "outputs": [],
   "source": [
    "df.dropna(inplace = True)"
   ]
  },
  {
   "cell_type": "code",
   "execution_count": 69,
   "id": "1e2eb165-8642-4cb3-b6c5-41df62f755a1",
   "metadata": {},
   "outputs": [],
   "source": [
    "df['gdp_cat'] = np.nan"
   ]
  },
  {
   "cell_type": "code",
   "execution_count": 70,
   "id": "960b6b9b-23ec-460f-bd39-02f68c57f8e6",
   "metadata": {},
   "outputs": [],
   "source": [
    "cond = df['gdp-per-capita'] > df['gdp-per-capita'].mean()"
   ]
  },
  {
   "cell_type": "code",
   "execution_count": 71,
   "id": "cea015ff-5aaa-4a70-b4dc-1b2f9fb7f3b9",
   "metadata": {},
   "outputs": [],
   "source": [
    "df.loc[cond, 'gdp_cat'] = 'yes'\n",
    "df.loc[~cond, 'gdp_cat'] = 'no'"
   ]
  },
  {
   "cell_type": "code",
   "execution_count": 72,
   "id": "78da3a57-6f15-4377-8479-73fbe2ada753",
   "metadata": {},
   "outputs": [
    {
     "data": {
      "text/plain": [
       "no     3437\n",
       "yes    1652\n",
       "Name: gdp_cat, dtype: int64"
      ]
     },
     "execution_count": 72,
     "metadata": {},
     "output_type": "execute_result"
    }
   ],
   "source": [
    "df.gdp_cat.value_counts()"
   ]
  },
  {
   "cell_type": "code",
   "execution_count": null,
   "id": "b0844a74-917b-49c1-ac74-163f0316745f",
   "metadata": {},
   "outputs": [],
   "source": []
  },
  {
   "cell_type": "code",
   "execution_count": null,
   "id": "dfaaba47-8a4d-45fd-bf59-35269667f881",
   "metadata": {},
   "outputs": [],
   "source": []
  },
  {
   "cell_type": "markdown",
   "id": "79d52285-8185-4e52-9a7e-5e9a8b34b70f",
   "metadata": {},
   "source": [
    "# Model"
   ]
  },
  {
   "cell_type": "code",
   "execution_count": 73,
   "id": "d4aff5cf-35ac-4548-883e-8845a00158e6",
   "metadata": {},
   "outputs": [],
   "source": [
    "X = df.drop(columns = ['country','code','continent', 'gdp-per-capita','gdp_cat'])\n",
    "y = df.gdp_cat"
   ]
  },
  {
   "cell_type": "code",
   "execution_count": 74,
   "id": "eb25a8c7-5d22-48c6-9dfc-871b09386f24",
   "metadata": {},
   "outputs": [
    {
     "data": {
      "text/plain": [
       "no     0.675378\n",
       "yes    0.324622\n",
       "Name: gdp_cat, dtype: float64"
      ]
     },
     "execution_count": 74,
     "metadata": {},
     "output_type": "execute_result"
    }
   ],
   "source": [
    "y.value_counts(normalize = True)"
   ]
  },
  {
   "cell_type": "code",
   "execution_count": null,
   "id": "88a3c9af-29b2-4a9c-b3ab-f74f59809605",
   "metadata": {},
   "outputs": [],
   "source": []
  },
  {
   "cell_type": "code",
   "execution_count": 75,
   "id": "75b745af-064e-45af-ab89-ee59efb7d831",
   "metadata": {
    "tags": []
   },
   "outputs": [],
   "source": [
    "\n",
    "X_train, X_test, y_train, y_test = train_test_split(X,y, test_size=.30 , random_state=42, stratify=y)\n"
   ]
  },
  {
   "cell_type": "code",
   "execution_count": 76,
   "id": "7d7d29d5-50bf-491a-9633-5946f10636bf",
   "metadata": {},
   "outputs": [],
   "source": [
    "ss = StandardScaler()\n",
    "\n",
    "X_train_sc = ss.fit_transform(X_train)\n",
    "X_test_sc = ss.transform(X_test)"
   ]
  },
  {
   "cell_type": "code",
   "execution_count": 77,
   "id": "3d2d8cec-8d0d-4b1b-af28-2ac62aca4e4f",
   "metadata": {
    "id": "pdGgtkltDIH_"
   },
   "outputs": [],
   "source": [
    "##  Function to calculate different metric scores of the model - Accuracy, Recall and Precision\n",
    "def get_metrics_score(model,flag=True):\n",
    "    '''\n",
    "    model : classifier to predict values of X\n",
    "\n",
    "    '''\n",
    "    \n",
    "    #source:- Great Learning\n",
    "    # defining an empty list to store train and test results\n",
    "    score_list=[] \n",
    "    \n",
    "    pred_train = model.predict(X_train_sc)\n",
    "    pred_test = model.predict(X_test_sc)\n",
    "    \n",
    "    train_acc = model.score(X_train_sc,y_train)\n",
    "    test_acc = model.score(X_test_sc,y_test)\n",
    "    \n",
    "    train_recall = metrics.recall_score(y_train,pred_train, pos_label= 'yes')\n",
    "    test_recall = metrics.recall_score(y_test,pred_test, pos_label = 'yes')\n",
    "    \n",
    "    train_precision = metrics.precision_score(y_train,pred_train, pos_label= 'yes')\n",
    "    test_precision = metrics.precision_score(y_test,pred_test,pos_label= 'yes')\n",
    "    \n",
    "    crossval = cross_val_score(model, X_train_sc, y_train).mean()\n",
    "    score_list.extend((train_acc,test_acc,train_recall,test_recall,train_precision,test_precision))\n",
    "        \n",
    "    # If the flag is set to True then only the following print statements will be dispayed. The default value is set to True.\n",
    "    if flag == True: \n",
    "        print(\"Accuracy on training set : \",model.score(X_train_sc,y_train))\n",
    "        print(\"Accuracy on test set : \",model.score(X_test_sc,y_test))\n",
    "        print(\"Recall on training set : \",metrics.recall_score(y_train,pred_train,pos_label= 'yes'))\n",
    "        print(\"Recall on test set : \",metrics.recall_score(y_test,pred_test,pos_label= 'yes'))\n",
    "        print(\"Precision on training set : \",metrics.precision_score(y_train,pred_train,pos_label= 'yes'))\n",
    "        print(\"Precision on test set : \",metrics.precision_score(y_test,pred_test,pos_label= 'yes'))\n",
    "        print('Cross val score : ', crossval)\n",
    "    \n",
    "    return score_list # returning the list with train and test scores"
   ]
  },
  {
   "cell_type": "code",
   "execution_count": 78,
   "id": "cc239014-12be-48cc-ba97-dc7e663db97d",
   "metadata": {
    "id": "E3iENcdjDIH_"
   },
   "outputs": [],
   "source": [
    "## Function to create confusion matrix\n",
    "def make_confusion_matrix(model,y_actual,labels=['yes', 'no']):\n",
    "    '''\n",
    "    model : classifier to predict values of X\n",
    "    y_actual : ground truth  \n",
    "    \n",
    "    '''\n",
    "    #source:- Great Learning\n",
    "    y_predict = model.predict(X_test_sc)\n",
    "    cm=metrics.confusion_matrix( y_actual, y_predict, labels=['no','yes'])\n",
    "    df_cm = pd.DataFrame(cm, index = [i for i in [\"Actual - No\",\"Actual - Yes\"]],\n",
    "                  columns = [i for i in ['Predicted - No','Predicted - Yes']])\n",
    "    group_counts = [\"{0:0.0f}\".format(value) for value in\n",
    "                cm.flatten()]\n",
    "    group_percentages = [\"{0:.2%}\".format(value) for value in\n",
    "                         cm.flatten()/np.sum(cm)]\n",
    "    labels = [f\"{v1}\\n{v2}\" for v1, v2 in\n",
    "              zip(group_counts,group_percentages)]\n",
    "    labels = np.asarray(labels).reshape(2,2)\n",
    "    plt.figure(figsize = (10,7))\n",
    "    sns.heatmap(df_cm, annot=labels,cmap = 'viridis', fmt='')\n",
    "    plt.ylabel('True label')\n",
    "    plt.xlabel('Predicted label')"
   ]
  },
  {
   "cell_type": "code",
   "execution_count": null,
   "id": "4c28a813-855f-43ea-9afa-cbe7bde11b03",
   "metadata": {},
   "outputs": [],
   "source": []
  },
  {
   "cell_type": "code",
   "execution_count": null,
   "id": "83f93acf-67d9-4c2d-a6bc-4a58e4e9ab0f",
   "metadata": {},
   "outputs": [],
   "source": []
  },
  {
   "cell_type": "markdown",
   "id": "7827453e-c2a4-4e7f-9da5-070dfecb1b21",
   "metadata": {
    "tags": []
   },
   "source": [
    "## Logistic Regression"
   ]
  },
  {
   "cell_type": "code",
   "execution_count": 79,
   "id": "4fabab40-4f5e-474f-85ac-015b6a596d9c",
   "metadata": {},
   "outputs": [
    {
     "data": {
      "text/plain": [
       "LogisticRegression()"
      ]
     },
     "execution_count": 79,
     "metadata": {},
     "output_type": "execute_result"
    }
   ],
   "source": [
    "logreg = LogisticRegression()\n",
    "logreg.fit(X_train_sc, y_train)\n"
   ]
  },
  {
   "cell_type": "code",
   "execution_count": 80,
   "id": "cf51e783-914b-415d-a848-f2da3531bbfb",
   "metadata": {},
   "outputs": [
    {
     "name": "stdout",
     "output_type": "stream",
     "text": [
      "Accuracy on training set :  0.8354856822010107\n",
      "Accuracy on test set :  0.8146692861820564\n",
      "Recall on training set :  0.5484429065743944\n",
      "Recall on test set :  0.4798387096774194\n",
      "Precision on training set :  0.9083094555873925\n",
      "Precision on test set :  0.9049429657794676\n",
      "Cross val score :  0.8276194903635533\n"
     ]
    },
    {
     "data": {
      "text/plain": [
       "[0.8354856822010107,\n",
       " 0.8146692861820564,\n",
       " 0.5484429065743944,\n",
       " 0.4798387096774194,\n",
       " 0.9083094555873925,\n",
       " 0.9049429657794676]"
      ]
     },
     "execution_count": 80,
     "metadata": {},
     "output_type": "execute_result"
    }
   ],
   "source": [
    "get_metrics_score(logreg)\n"
   ]
  },
  {
   "cell_type": "code",
   "execution_count": 81,
   "id": "9d7efd96-70d1-4a80-b0ac-52d3df274621",
   "metadata": {},
   "outputs": [
    {
     "data": {
      "image/png": "[encoded data removed]",
      "text/plain": [
       "<Figure size 720x504 with 2 Axes>"
      ]
     },
     "metadata": {
      "needs_background": "light"
     },
     "output_type": "display_data"
    }
   ],
   "source": [
    "make_confusion_matrix(logreg, y_test)"
   ]
  },
  {
   "cell_type": "markdown",
   "id": "43e8077b-0b01-4fa6-8da2-e5d5c9caec5e",
   "metadata": {},
   "source": [
    "## grid on Logreg"
   ]
  },
  {
   "cell_type": "code",
   "execution_count": 82,
   "id": "405b6930-ec8b-4c1e-8bfc-25cdb66155b0",
   "metadata": {},
   "outputs": [
    {
     "name": "stdout",
     "output_type": "stream",
     "text": [
      "Wall time: 1.09 s\n"
     ]
    },
    {
     "data": {
      "text/plain": [
       "GridSearchCV(cv=5, estimator=LogisticRegression(),\n",
       "             param_grid={'C': [0.5, 1.0, 25], 'penalty': ['l1', 'l2']})"
      ]
     },
     "execution_count": 82,
     "metadata": {},
     "output_type": "execute_result"
    }
   ],
   "source": [
    "%%time\n",
    "logreg = LogisticRegression()\n",
    "\n",
    "#setting parameter, lasso ridge\n",
    "params = {'penalty':['l1','l2'],'C':[0.5,1.0,25]}\n",
    "\n",
    "#\n",
    "grid_logreg = GridSearchCV(logreg, param_grid=params, cv = 5)\n",
    "\n",
    "#fittig train data\n",
    "grid_logreg.fit(X_train_sc,y_train)\n",
    "\n",
    "#score of train data \n"
   ]
  },
  {
   "cell_type": "code",
   "execution_count": 83,
   "id": "05717a0e-460c-4e29-b54b-821decd13163",
   "metadata": {},
   "outputs": [
    {
     "name": "stdout",
     "output_type": "stream",
     "text": [
      "Accuracy on training set :  0.8638405390230208\n",
      "Accuracy on test set :  0.8447937131630648\n",
      "Recall on training set :  0.6591695501730104\n",
      "Recall on test set :  0.5987903225806451\n",
      "Precision on training set :  0.8933177022274326\n",
      "Precision on test set :  0.8865671641791045\n",
      "Cross val score :  0.8590640118505444\n"
     ]
    },
    {
     "data": {
      "text/plain": [
       "[0.8638405390230208,\n",
       " 0.8447937131630648,\n",
       " 0.6591695501730104,\n",
       " 0.5987903225806451,\n",
       " 0.8933177022274326,\n",
       " 0.8865671641791045]"
      ]
     },
     "execution_count": 83,
     "metadata": {},
     "output_type": "execute_result"
    }
   ],
   "source": [
    "get_metrics_score(grid_logreg)"
   ]
  },
  {
   "cell_type": "code",
   "execution_count": 84,
   "id": "6806494d-2144-4a40-b9db-b9e99ad4a31c",
   "metadata": {},
   "outputs": [
    {
     "data": {
      "image/png": "[encoded data removed]",
      "text/plain": [
       "<Figure size 720x504 with 2 Axes>"
      ]
     },
     "metadata": {
      "needs_background": "light"
     },
     "output_type": "display_data"
    }
   ],
   "source": [
    "\n",
    "make_confusion_matrix(grid_logreg, y_test)"
   ]
  },
  {
   "cell_type": "markdown",
   "id": "0c49e9b5-75c6-4026-b138-afc44ef9fd6e",
   "metadata": {},
   "source": [
    "## KNN"
   ]
  },
  {
   "cell_type": "code",
   "execution_count": 85,
   "id": "677f23a8-78e8-4206-a8cb-afc480fe7f11",
   "metadata": {},
   "outputs": [
    {
     "data": {
      "text/plain": [
       "KNeighborsClassifier()"
      ]
     },
     "execution_count": 85,
     "metadata": {},
     "output_type": "execute_result"
    }
   ],
   "source": [
    "knn = KNeighborsClassifier()\n",
    "knn.fit(X_train_sc, y_train)\n",
    "\n"
   ]
  },
  {
   "cell_type": "code",
   "execution_count": 86,
   "id": "52aa2e07-6dab-423e-a4d0-cfaa4291a205",
   "metadata": {},
   "outputs": [
    {
     "name": "stdout",
     "output_type": "stream",
     "text": [
      "Accuracy on training set :  0.9188658057271196\n",
      "Accuracy on test set :  0.8631303208906352\n",
      "Recall on training set :  0.8269896193771626\n",
      "Recall on test set :  0.717741935483871\n",
      "Precision on training set :  0.9148325358851674\n",
      "Precision on test set :  0.8376470588235294\n",
      "Cross val score :  0.8455926848101865\n"
     ]
    },
    {
     "data": {
      "text/plain": [
       "[0.9188658057271196,\n",
       " 0.8631303208906352,\n",
       " 0.8269896193771626,\n",
       " 0.717741935483871,\n",
       " 0.9148325358851674,\n",
       " 0.8376470588235294]"
      ]
     },
     "execution_count": 86,
     "metadata": {},
     "output_type": "execute_result"
    }
   ],
   "source": [
    "get_metrics_score(knn)"
   ]
  },
  {
   "cell_type": "code",
   "execution_count": 87,
   "id": "c54ec257-3e74-4dae-94f9-53eb9392b980",
   "metadata": {},
   "outputs": [
    {
     "data": {
      "image/png": "[encoded data removed]",
      "text/plain": [
       "<Figure size 720x504 with 2 Axes>"
      ]
     },
     "metadata": {
      "needs_background": "light"
     },
     "output_type": "display_data"
    }
   ],
   "source": [
    "\n",
    "make_confusion_matrix(knn, y_test)"
   ]
  },
  {
   "cell_type": "markdown",
   "id": "387e6d54-8577-4fcf-9b2c-d728a38969b0",
   "metadata": {},
   "source": [
    "## Grid Search cv on knn"
   ]
  },
  {
   "cell_type": "code",
   "execution_count": 88,
   "id": "a0294acb-63f2-4a5e-8737-3661fc21d508",
   "metadata": {},
   "outputs": [
    {
     "name": "stdout",
     "output_type": "stream",
     "text": [
      "Wall time: 4.61 s\n"
     ]
    },
    {
     "data": {
      "text/plain": [
       "(1.0, 0.8493778650949574)"
      ]
     },
     "execution_count": 88,
     "metadata": {},
     "output_type": "execute_result"
    }
   ],
   "source": [
    "%%time\n",
    "knn = KNeighborsClassifier()\n",
    "\n",
    "\n",
    "param_knn = {\n",
    "    'n_neighbors': [5, 10, 25],\n",
    "    'weights': ['uniform', 'distance'],\n",
    "    \n",
    "}\n",
    "\n",
    "grid_knn = GridSearchCV(knn, param_grid=param_knn,n_jobs = -1, cv=5)\n",
    "\n",
    "grid_knn.fit(X_train_sc, y_train)\n",
    "\n",
    "grid_knn.score(X_train_sc, y_train), grid_knn.score(X_test_sc, y_test)"
   ]
  },
  {
   "cell_type": "code",
   "execution_count": 89,
   "id": "eacdc8e9-d6fa-4a5c-9100-071bdb6ab21b",
   "metadata": {},
   "outputs": [
    {
     "name": "stdout",
     "output_type": "stream",
     "text": [
      "Accuracy on training set :  1.0\n",
      "Accuracy on test set :  0.8493778650949574\n",
      "Recall on training set :  1.0\n",
      "Recall on test set :  0.6653225806451613\n",
      "Precision on training set :  1.0\n",
      "Precision on test set :  0.8375634517766497\n",
      "Cross val score :  0.8528917219534489\n"
     ]
    },
    {
     "data": {
      "text/plain": [
       "[1.0, 0.8493778650949574, 1.0, 0.6653225806451613, 1.0, 0.8375634517766497]"
      ]
     },
     "execution_count": 89,
     "metadata": {},
     "output_type": "execute_result"
    }
   ],
   "source": [
    "#Calculating different metrics\n",
    "get_metrics_score(grid_knn)"
   ]
  },
  {
   "cell_type": "code",
   "execution_count": 26,
   "id": "e547ef59-6938-4ddb-a6b3-6105d576862d",
   "metadata": {},
   "outputs": [
    {
     "data": {
      "image/png": "[encoded data removed]",
      "text/plain": [
       "<Figure size 720x504 with 2 Axes>"
      ]
     },
     "metadata": {
      "needs_background": "light"
     },
     "output_type": "display_data"
    }
   ],
   "source": [
    "\n",
    "\n",
    "#Creating confusion matrix\n",
    "make_confusion_matrix(grid_knn,y_test)"
   ]
  },
  {
   "cell_type": "markdown",
   "id": "1f3ce077-455e-4593-b332-121e94ae3118",
   "metadata": {
    "tags": []
   },
   "source": [
    "## Decision Tree"
   ]
  },
  {
   "cell_type": "code",
   "execution_count": 90,
   "id": "5129690c-c390-4b23-ad3e-43ac4e7cca84",
   "metadata": {},
   "outputs": [
    {
     "data": {
      "text/plain": [
       "DecisionTreeClassifier()"
      ]
     },
     "execution_count": 90,
     "metadata": {},
     "output_type": "execute_result"
    }
   ],
   "source": [
    "dt = DecisionTreeClassifier()\n",
    "dt.fit(X_train_sc, y_train)\n"
   ]
  },
  {
   "cell_type": "code",
   "execution_count": 91,
   "id": "21fc27ba-3365-437b-beca-638b19344974",
   "metadata": {},
   "outputs": [
    {
     "name": "stdout",
     "output_type": "stream",
     "text": [
      "Accuracy on training set :  1.0\n",
      "Accuracy on test set :  0.971185330713818\n",
      "Recall on training set :  1.0\n",
      "Recall on test set :  0.9495967741935484\n",
      "Precision on training set :  1.0\n",
      "Precision on test set :  0.9612244897959183\n",
      "Cross val score :  0.9696814378240383\n"
     ]
    },
    {
     "data": {
      "text/plain": [
       "[1.0, 0.971185330713818, 1.0, 0.9495967741935484, 1.0, 0.9612244897959183]"
      ]
     },
     "execution_count": 91,
     "metadata": {},
     "output_type": "execute_result"
    }
   ],
   "source": [
    "get_metrics_score(dt)"
   ]
  },
  {
   "cell_type": "code",
   "execution_count": 92,
   "id": "6972a666-f68d-4d4c-ab8f-8d4b1b2c95cf",
   "metadata": {},
   "outputs": [
    {
     "data": {
      "image/png": "[encoded data removed]",
      "text/plain": [
       "<Figure size 720x504 with 2 Axes>"
      ]
     },
     "metadata": {
      "needs_background": "light"
     },
     "output_type": "display_data"
    }
   ],
   "source": [
    "\n",
    "make_confusion_matrix(dt, y_test)"
   ]
  },
  {
   "cell_type": "markdown",
   "id": "21d2e056-084a-42a4-a197-6b566b227de5",
   "metadata": {},
   "source": [
    "## GridSCV on Decision Tree"
   ]
  },
  {
   "cell_type": "code",
   "execution_count": 93,
   "id": "a855d66d-066c-4353-a8c1-b999178761f4",
   "metadata": {},
   "outputs": [
    {
     "name": "stdout",
     "output_type": "stream",
     "text": [
      "Wall time: 1min 32s\n"
     ]
    },
    {
     "data": {
      "text/plain": [
       "DecisionTreeClassifier(max_depth=2, max_leaf_nodes=2,\n",
       "                       min_impurity_decrease=0.0001)"
      ]
     },
     "execution_count": 93,
     "metadata": {},
     "output_type": "execute_result"
    }
   ],
   "source": [
    "%%time\n",
    "#Choose the type of classifier. \n",
    "dtree_estimator = DecisionTreeClassifier()\n",
    "\n",
    "# Grid of parameters to choose from\n",
    "parameters = {'max_depth': np.arange(2,30), \n",
    "              'min_samples_leaf': [1, 2, 5, 7, 10],\n",
    "              'max_leaf_nodes' : [2, 3, 5, 10,15],\n",
    "              'min_impurity_decrease': [0.0001,0.001,0.01,0.1]\n",
    "             }\n",
    "\n",
    "# Type of scoring used to compare parameter combinations\n",
    "scorer = metrics.make_scorer(metrics.recall_score)\n",
    "\n",
    "# Run the grid search\n",
    "grid_obj = GridSearchCV(dtree_estimator, parameters, scoring=scorer,n_jobs=-1)\n",
    "grid_obj = grid_obj.fit(X_train_sc, y_train)\n",
    "\n",
    "# Set the clf to the best combination of parameters\n",
    "dtree_estimator = grid_obj.best_estimator_\n",
    "\n",
    "# Fit the best algorithm to the data. \n",
    "dtree_estimator.fit(X_train_sc, y_train)\n"
   ]
  },
  {
   "cell_type": "code",
   "execution_count": 94,
   "id": "757e0834-35d2-45ae-ba17-ecca146ad8cd",
   "metadata": {},
   "outputs": [
    {
     "name": "stdout",
     "output_type": "stream",
     "text": [
      "Accuracy on training set :  0.7299270072992701\n",
      "Accuracy on test set :  0.7190569744597249\n",
      "Recall on training set :  0.9256055363321799\n",
      "Recall on test set :  0.9153225806451613\n",
      "Precision on training set :  0.5498458376156218\n",
      "Precision on test set :  0.539833531510107\n",
      "Cross val score :  0.7285212821280552\n",
      "Wall time: 252 ms\n"
     ]
    },
    {
     "data": {
      "text/plain": [
       "[0.7299270072992701,\n",
       " 0.7190569744597249,\n",
       " 0.9256055363321799,\n",
       " 0.9153225806451613,\n",
       " 0.5498458376156218,\n",
       " 0.539833531510107]"
      ]
     },
     "execution_count": 94,
     "metadata": {},
     "output_type": "execute_result"
    }
   ],
   "source": [
    "%%time\n",
    "get_metrics_score(dtree_estimator)"
   ]
  },
  {
   "cell_type": "code",
   "execution_count": 95,
   "id": "67d5909c-99d1-448d-8bcc-bff3b6c2f66b",
   "metadata": {},
   "outputs": [
    {
     "data": {
      "image/png": "[encoded data removed]",
      "text/plain": [
       "<Figure size 720x504 with 2 Axes>"
      ]
     },
     "metadata": {
      "needs_background": "light"
     },
     "output_type": "display_data"
    }
   ],
   "source": [
    "\n",
    "\n",
    "make_confusion_matrix(dtree_estimator,y_test)"
   ]
  },
  {
   "cell_type": "markdown",
   "id": "3537ff57-c48a-4920-812e-1e2129b6d3ad",
   "metadata": {},
   "source": [
    "## bagged decision trees"
   ]
  },
  {
   "cell_type": "code",
   "execution_count": 96,
   "id": "603fc521-4452-4691-9df7-92794c313b44",
   "metadata": {},
   "outputs": [
    {
     "data": {
      "text/plain": [
       "BaggingClassifier()"
      ]
     },
     "execution_count": 96,
     "metadata": {},
     "output_type": "execute_result"
    }
   ],
   "source": [
    "bgr = BaggingClassifier()\n",
    "bgr.fit(X_train_sc, y_train)\n"
   ]
  },
  {
   "cell_type": "code",
   "execution_count": 97,
   "id": "61b4839e-3ee8-46a3-bbbf-263708279379",
   "metadata": {},
   "outputs": [
    {
     "name": "stdout",
     "output_type": "stream",
     "text": [
      "Accuracy on training set :  0.9997192588433464\n",
      "Accuracy on test set :  0.9796987557301899\n",
      "Recall on training set :  0.9991349480968859\n",
      "Recall on test set :  0.9516129032258065\n",
      "Precision on training set :  1.0\n",
      "Precision on test set :  0.9853862212943633\n",
      "Cross val score :  0.975009455221646\n",
      "Wall time: 1.7 s\n"
     ]
    },
    {
     "data": {
      "text/plain": [
       "[0.9997192588433464,\n",
       " 0.9796987557301899,\n",
       " 0.9991349480968859,\n",
       " 0.9516129032258065,\n",
       " 1.0,\n",
       " 0.9853862212943633]"
      ]
     },
     "execution_count": 97,
     "metadata": {},
     "output_type": "execute_result"
    }
   ],
   "source": [
    "\n",
    "%%time\n",
    "get_metrics_score(bgr)"
   ]
  },
  {
   "cell_type": "code",
   "execution_count": 98,
   "id": "fdd189c9-60df-4fc8-88ba-0ab239517ccc",
   "metadata": {},
   "outputs": [
    {
     "data": {
      "text/plain": [
       "no     1031\n",
       "yes     496\n",
       "Name: gdp_cat, dtype: int64"
      ]
     },
     "execution_count": 98,
     "metadata": {},
     "output_type": "execute_result"
    }
   ],
   "source": [
    "y_test.value_counts()"
   ]
  },
  {
   "cell_type": "code",
   "execution_count": 99,
   "id": "1a1e8f76-2c94-457a-b0d9-a498f1dfd909",
   "metadata": {},
   "outputs": [
    {
     "data": {
      "image/png": "[encoded data removed]",
      "text/plain": [
       "<Figure size 720x504 with 2 Axes>"
      ]
     },
     "metadata": {
      "needs_background": "light"
     },
     "output_type": "display_data"
    }
   ],
   "source": [
    "\n",
    "make_confusion_matrix(bgr, y_test)"
   ]
  },
  {
   "cell_type": "markdown",
   "id": "e3555a62-fb4a-45ab-a732-9fa0019f47e6",
   "metadata": {},
   "source": [
    "## Grid Cv on bagged decision tree"
   ]
  },
  {
   "cell_type": "code",
   "execution_count": null,
   "id": "7c56ecc3-2a23-4cb3-b2eb-cbbab90a752d",
   "metadata": {},
   "outputs": [],
   "source": []
  },
  {
   "cell_type": "code",
   "execution_count": 100,
   "id": "3557e797-d563-49fe-a8ce-ea93ef1fb399",
   "metadata": {
    "id": "mdSHcJykDIII",
    "outputId": "cff3245c-2327-4e61-f80c-bbe3597dcaba"
   },
   "outputs": [
    {
     "name": "stdout",
     "output_type": "stream",
     "text": [
      "Wall time: 2min 35s\n"
     ]
    },
    {
     "data": {
      "text/plain": [
       "BaggingClassifier(max_features=0.7, max_samples=0.7, random_state=1)"
      ]
     },
     "execution_count": 100,
     "metadata": {},
     "output_type": "execute_result"
    }
   ],
   "source": [
    "%%time\n",
    "# Choose the type of classifier. \n",
    "bagging_estimator_tuned = BaggingClassifier(random_state=1)\n",
    "\n",
    "# Grid of parameters to choose from\n",
    "parameters = {'max_samples': [0.7,0.8,0.9,1], \n",
    "              'max_features': [0.7,0.8,0.9,1],\n",
    "              'n_estimators' : [10,20,30,40,50],\n",
    "             }\n",
    "\n",
    "# Type of scoring used to compare parameter combinations\n",
    "acc_scorer = metrics.make_scorer(metrics.recall_score)\n",
    "\n",
    "# Run the grid search\n",
    "grid_obj = GridSearchCV(bagging_estimator_tuned, parameters, scoring=acc_scorer,cv=5)\n",
    "grid_obj = grid_obj.fit(X_train_sc, y_train)\n",
    "\n",
    "# Set the clf to the best combination of parameters\n",
    "bagging_estimator_tuned = grid_obj.best_estimator_\n",
    "\n",
    "# Fit the best algorithm to the data.\n",
    "bagging_estimator_tuned.fit(X_train_sc, y_train)"
   ]
  },
  {
   "cell_type": "code",
   "execution_count": 101,
   "id": "4d5a6375-9e74-41b8-926c-d8f7b0f86531",
   "metadata": {},
   "outputs": [
    {
     "name": "stdout",
     "output_type": "stream",
     "text": [
      "Accuracy on training set :  0.99606962380685\n",
      "Accuracy on test set :  0.9796987557301899\n",
      "Recall on training set :  0.9922145328719724\n",
      "Recall on test set :  0.9556451612903226\n",
      "Precision on training set :  0.9956597222222222\n",
      "Precision on test set :  0.9813664596273292\n",
      "Cross val score :  0.97444962730668\n"
     ]
    },
    {
     "data": {
      "text/plain": [
       "[0.99606962380685,\n",
       " 0.9796987557301899,\n",
       " 0.9922145328719724,\n",
       " 0.9556451612903226,\n",
       " 0.9956597222222222,\n",
       " 0.9813664596273292]"
      ]
     },
     "execution_count": 101,
     "metadata": {},
     "output_type": "execute_result"
    }
   ],
   "source": [
    "#Calculating different metrics\n",
    "get_metrics_score(bagging_estimator_tuned)"
   ]
  },
  {
   "cell_type": "code",
   "execution_count": 102,
   "id": "a9521069-516b-4c7e-9316-b8f59ccc0494",
   "metadata": {
    "id": "FKut6IJqDIIJ",
    "outputId": "8ab67666-ce73-4cdc-9fbe-54ee117b9741"
   },
   "outputs": [
    {
     "data": {
      "image/png": "[encoded data removed]",
      "text/plain": [
       "<Figure size 720x504 with 2 Axes>"
      ]
     },
     "metadata": {
      "needs_background": "light"
     },
     "output_type": "display_data"
    }
   ],
   "source": [
    "\n",
    "\n",
    "#Creating confusion matrix\n",
    "make_confusion_matrix(bagging_estimator_tuned,y_test)"
   ]
  },
  {
   "cell_type": "code",
   "execution_count": null,
   "id": "2a0af858-138a-4f0a-a681-5e95c4959c85",
   "metadata": {},
   "outputs": [],
   "source": []
  },
  {
   "cell_type": "code",
   "execution_count": null,
   "id": "09b4c7e3-f176-46cb-b093-b1e2826a10a2",
   "metadata": {},
   "outputs": [],
   "source": []
  },
  {
   "cell_type": "markdown",
   "id": "6d9d6036-cd59-4899-962b-0c89c67fe85e",
   "metadata": {},
   "source": [
    "## Random Forest"
   ]
  },
  {
   "cell_type": "code",
   "execution_count": 103,
   "id": "d3335460-0e9e-499b-b72e-ef83e2d80044",
   "metadata": {},
   "outputs": [
    {
     "data": {
      "text/plain": [
       "RandomForestClassifier()"
      ]
     },
     "execution_count": 103,
     "metadata": {},
     "output_type": "execute_result"
    }
   ],
   "source": [
    "rf = RandomForestClassifier()\n",
    "rf.fit(X_train_sc, y_train)\n"
   ]
  },
  {
   "cell_type": "code",
   "execution_count": 104,
   "id": "106419ac-7ce5-4c4c-a413-7fb58fbfc787",
   "metadata": {},
   "outputs": [
    {
     "name": "stdout",
     "output_type": "stream",
     "text": [
      "Accuracy on training set :  1.0\n",
      "Accuracy on test set :  0.9855926653569089\n",
      "Recall on training set :  1.0\n",
      "Recall on test set :  0.9717741935483871\n",
      "Precision on training set :  1.0\n",
      "Precision on test set :  0.9836734693877551\n",
      "Cross val score :  0.9831543407346708\n"
     ]
    },
    {
     "data": {
      "text/plain": [
       "[1.0, 0.9855926653569089, 1.0, 0.9717741935483871, 1.0, 0.9836734693877551]"
      ]
     },
     "execution_count": 104,
     "metadata": {},
     "output_type": "execute_result"
    }
   ],
   "source": [
    "get_metrics_score(rf)"
   ]
  },
  {
   "cell_type": "code",
   "execution_count": 105,
   "id": "fdca2283-8422-4016-9228-4457d842e37f",
   "metadata": {},
   "outputs": [
    {
     "data": {
      "image/png": "[encoded data removed]",
      "text/plain": [
       "<Figure size 720x504 with 2 Axes>"
      ]
     },
     "metadata": {
      "needs_background": "light"
     },
     "output_type": "display_data"
    }
   ],
   "source": [
    "\n",
    "make_confusion_matrix(rf, y_test)"
   ]
  },
  {
   "cell_type": "markdown",
   "id": "f942ad30-7ac4-4b45-8f4f-837e0c1f6e33",
   "metadata": {},
   "source": [
    "## GridSearchCv on Random Forest Classifier"
   ]
  },
  {
   "cell_type": "code",
   "execution_count": 106,
   "id": "6b3544a4-caf1-4feb-a668-af1add1b87ff",
   "metadata": {},
   "outputs": [
    {
     "name": "stdout",
     "output_type": "stream",
     "text": [
      "Wall time: 21.3 s\n"
     ]
    },
    {
     "data": {
      "text/plain": [
       "GridSearchCV(cv=5, estimator=RandomForestClassifier(), n_jobs=-1,\n",
       "             param_grid={'criterion': ['gini', 'entropy'],\n",
       "                         'max_depth': [4, 10, 20],\n",
       "                         'max_features': ['auto', 1.0, 2, 3],\n",
       "                         'n_estimators': [18, 20, 25]})"
      ]
     },
     "execution_count": 106,
     "metadata": {},
     "output_type": "execute_result"
    }
   ],
   "source": [
    "%%time\n",
    "rfc = RandomForestClassifier()\n",
    "# setting paramiter\n",
    "param_rfc = {\n",
    "    'criterion': ['gini', 'entropy'],\n",
    "    'n_estimators': [18, 20, 25],\n",
    "    'max_depth': [4, 10, 20],\n",
    "    'max_features': ['auto', 1.0, 2, 3]\n",
    "    \n",
    "}\n",
    "\n",
    "# gridSearchCv\n",
    "grid_rfc = GridSearchCV(rfc,param_grid= param_rfc,n_jobs = -1, cv = 5)\n",
    "\n",
    "# fitting grid Search on Training data\n",
    "grid_rfc.fit(X_train_sc, y_train)"
   ]
  },
  {
   "cell_type": "code",
   "execution_count": 107,
   "id": "b9f2c21a-5457-4250-99f8-6ea046489587",
   "metadata": {},
   "outputs": [
    {
     "name": "stdout",
     "output_type": "stream",
     "text": [
      "Accuracy on training set :  0.9994385176866929\n",
      "Accuracy on test set :  0.9836280288146693\n",
      "Recall on training set :  0.9982698961937716\n",
      "Recall on test set :  0.9616935483870968\n",
      "Precision on training set :  1.0\n",
      "Precision on test set :  0.9875776397515528\n",
      "Cross val score :  0.9828726539231291\n"
     ]
    },
    {
     "data": {
      "text/plain": [
       "[0.9994385176866929,\n",
       " 0.9836280288146693,\n",
       " 0.9982698961937716,\n",
       " 0.9616935483870968,\n",
       " 1.0,\n",
       " 0.9875776397515528]"
      ]
     },
     "execution_count": 107,
     "metadata": {},
     "output_type": "execute_result"
    }
   ],
   "source": [
    "#Calculating different metrics\n",
    "get_metrics_score(grid_rfc)\n"
   ]
  },
  {
   "cell_type": "code",
   "execution_count": 108,
   "id": "1ecba420-2760-401b-9766-a51fd3fd5eec",
   "metadata": {},
   "outputs": [
    {
     "data": {
      "image/png": "[encoded data removed]",
      "text/plain": [
       "<Figure size 720x504 with 2 Axes>"
      ]
     },
     "metadata": {
      "needs_background": "light"
     },
     "output_type": "display_data"
    }
   ],
   "source": [
    "\n",
    "#Creating confusion matrix\n",
    "make_confusion_matrix(grid_rfc,y_test)"
   ]
  },
  {
   "cell_type": "markdown",
   "id": "caaa0ad7-9b97-45c8-bd98-6a4fa8e7222f",
   "metadata": {},
   "source": [
    "## AdaBoost"
   ]
  },
  {
   "cell_type": "code",
   "execution_count": 109,
   "id": "526652e4-6ec6-431d-89e8-ccd76518f5a3",
   "metadata": {},
   "outputs": [
    {
     "data": {
      "text/plain": [
       "AdaBoostClassifier()"
      ]
     },
     "execution_count": 109,
     "metadata": {},
     "output_type": "execute_result"
    }
   ],
   "source": [
    "ab = AdaBoostClassifier()\n",
    "ab.fit(X_train_sc, y_train)\n"
   ]
  },
  {
   "cell_type": "code",
   "execution_count": null,
   "id": "9405da6b-60a3-4f80-9905-4944150ed362",
   "metadata": {},
   "outputs": [],
   "source": []
  },
  {
   "cell_type": "code",
   "execution_count": 110,
   "id": "1f3d9113-ea81-4468-a438-0c1de803d7be",
   "metadata": {},
   "outputs": [
    {
     "name": "stdout",
     "output_type": "stream",
     "text": [
      "Accuracy on training set :  0.9483436271757439\n",
      "Accuracy on test set :  0.9220694171578258\n",
      "Recall on training set :  0.9065743944636678\n",
      "Recall on test set :  0.8649193548387096\n",
      "Precision on training set :  0.9323843416370107\n",
      "Precision on test set :  0.8918918918918919\n",
      "Cross val score :  0.9345808973005342\n"
     ]
    },
    {
     "data": {
      "text/plain": [
       "[0.9483436271757439,\n",
       " 0.9220694171578258,\n",
       " 0.9065743944636678,\n",
       " 0.8649193548387096,\n",
       " 0.9323843416370107,\n",
       " 0.8918918918918919]"
      ]
     },
     "execution_count": 110,
     "metadata": {},
     "output_type": "execute_result"
    }
   ],
   "source": [
    "get_metrics_score(ab)"
   ]
  },
  {
   "cell_type": "code",
   "execution_count": 111,
   "id": "90f38b72-c38f-45c5-8e32-5bdde6704baf",
   "metadata": {},
   "outputs": [
    {
     "data": {
      "image/png": "[encoded data removed]",
      "text/plain": [
       "<Figure size 720x504 with 2 Axes>"
      ]
     },
     "metadata": {
      "needs_background": "light"
     },
     "output_type": "display_data"
    }
   ],
   "source": [
    "\n",
    "make_confusion_matrix(ab, y_test)"
   ]
  },
  {
   "cell_type": "markdown",
   "id": "8836708b-b7cc-4fee-a606-494abdc26385",
   "metadata": {},
   "source": [
    "## Grid Search on Adaboost"
   ]
  },
  {
   "cell_type": "code",
   "execution_count": null,
   "id": "5760128c-cafb-43f4-89ca-f0839eb6858b",
   "metadata": {},
   "outputs": [],
   "source": []
  },
  {
   "cell_type": "code",
   "execution_count": null,
   "id": "4149e472-72fc-4d25-8055-d145035fadad",
   "metadata": {},
   "outputs": [],
   "source": []
  },
  {
   "cell_type": "code",
   "execution_count": 112,
   "id": "82f1ee6d-b43c-49af-b122-d6038260822c",
   "metadata": {
    "id": "O57lZYpbDIIK",
    "outputId": "b4ef5c23-e9ba-4b9a-ceaf-edc0dc92624b"
   },
   "outputs": [
    {
     "name": "stdout",
     "output_type": "stream",
     "text": [
      "Wall time: 11min 37s\n"
     ]
    },
    {
     "data": {
      "text/plain": [
       "AdaBoostClassifier(base_estimator=DecisionTreeClassifier(max_depth=1),\n",
       "                   learning_rate=0.1, n_estimators=10, random_state=1)"
      ]
     },
     "execution_count": 112,
     "metadata": {},
     "output_type": "execute_result"
    }
   ],
   "source": [
    "%%time\n",
    "# Choose the type of classifier. \n",
    "abc_tuned = AdaBoostClassifier(random_state=1)\n",
    "\n",
    "# Grid of parameters to choose from\n",
    "parameters = {\n",
    "    #Let's try different max_depth for base_estimator\n",
    "    \"base_estimator\":[DecisionTreeClassifier(max_depth=1),DecisionTreeClassifier(max_depth=2),\n",
    "                      DecisionTreeClassifier(max_depth=3)],\n",
    "    \"n_estimators\": np.arange(10,110,10),\n",
    "    \"learning_rate\":np.arange(0.1,2,0.1)\n",
    "}\n",
    "\n",
    "# Type of scoring used to compare parameter  combinations\n",
    "acc_scorer = metrics.make_scorer(metrics.recall_score)\n",
    "\n",
    "# Run the grid search\n",
    "grid_obj = GridSearchCV(abc_tuned, parameters, n_jobs = -1,scoring=acc_scorer,cv=5)\n",
    "grid_obj = grid_obj.fit(X_train_sc, y_train)\n",
    "\n",
    "# Set the clf to the best combination of parameters\n",
    "abc_tuned = grid_obj.best_estimator_\n",
    "\n",
    "# Fit the best algorithm to the data.\n",
    "abc_tuned.fit(X_train_sc, y_train)"
   ]
  },
  {
   "cell_type": "code",
   "execution_count": 113,
   "id": "c72f09c5-6022-4c98-9c93-8f6be0fc4d56",
   "metadata": {},
   "outputs": [
    {
     "name": "stdout",
     "output_type": "stream",
     "text": [
      "Accuracy on training set :  0.742841100505334\n",
      "Accuracy on test set :  0.7445972495088409\n",
      "Recall on training set :  0.8927335640138409\n",
      "Recall on test set :  0.8911290322580645\n",
      "Precision on training set :  0.5657894736842105\n",
      "Precision on test set :  0.5681233933161953\n",
      "Cross val score :  0.7594012480892574\n"
     ]
    },
    {
     "data": {
      "text/plain": [
       "[0.742841100505334,\n",
       " 0.7445972495088409,\n",
       " 0.8927335640138409,\n",
       " 0.8911290322580645,\n",
       " 0.5657894736842105,\n",
       " 0.5681233933161953]"
      ]
     },
     "execution_count": 113,
     "metadata": {},
     "output_type": "execute_result"
    }
   ],
   "source": [
    "#Calculating different metrics\n",
    "get_metrics_score(abc_tuned)"
   ]
  },
  {
   "cell_type": "code",
   "execution_count": 114,
   "id": "e88625ce-f0b4-4629-918c-7cf4e2e21d82",
   "metadata": {
    "id": "Ie_GnvaEDIIK",
    "outputId": "1e371f03-5f8d-45f5-e19a-ebeb6a8f18fa"
   },
   "outputs": [
    {
     "data": {
      "image/png": "[encoded data removed]",
      "text/plain": [
       "<Figure size 720x504 with 2 Axes>"
      ]
     },
     "metadata": {
      "needs_background": "light"
     },
     "output_type": "display_data"
    }
   ],
   "source": [
    "\n",
    "\n",
    "#Creating confusion matrix\n",
    "make_confusion_matrix(abc_tuned,y_test)"
   ]
  },
  {
   "cell_type": "code",
   "execution_count": null,
   "id": "39eb62ca-ae96-403f-b5bc-2475c409fb19",
   "metadata": {},
   "outputs": [],
   "source": []
  },
  {
   "cell_type": "markdown",
   "id": "f3f3b8a8-ae0d-402c-a9d1-805f5de8cf06",
   "metadata": {},
   "source": [
    "## SVM"
   ]
  },
  {
   "cell_type": "code",
   "execution_count": 115,
   "id": "3b03fb46-5a68-4521-a639-312f28385590",
   "metadata": {},
   "outputs": [],
   "source": [
    "svc_= svm.SVC()"
   ]
  },
  {
   "cell_type": "code",
   "execution_count": 116,
   "id": "a24370a7-d8b2-4284-8593-5230441c9b33",
   "metadata": {},
   "outputs": [
    {
     "name": "stdout",
     "output_type": "stream",
     "text": [
      "Accuracy on training set :  0.7650196518809658\n",
      "Accuracy on test set :  0.7544204322200393\n",
      "Recall on training set :  0.29411764705882354\n",
      "Recall on test set :  0.2661290322580645\n",
      "Precision on training set :  0.9418282548476454\n",
      "Precision on test set :  0.9230769230769231\n",
      "Cross val score :  0.7602447326536079\n"
     ]
    },
    {
     "data": {
      "text/plain": [
       "[0.7650196518809658,\n",
       " 0.7544204322200393,\n",
       " 0.29411764705882354,\n",
       " 0.2661290322580645,\n",
       " 0.9418282548476454,\n",
       " 0.9230769230769231]"
      ]
     },
     "execution_count": 116,
     "metadata": {},
     "output_type": "execute_result"
    }
   ],
   "source": [
    "\n",
    "svc_.fit(X_train_sc, y_train)\n",
    "get_metrics_score(svc_)\n"
   ]
  },
  {
   "cell_type": "code",
   "execution_count": 117,
   "id": "a972000b-e44d-4f79-a21e-bcafd3db5d9f",
   "metadata": {},
   "outputs": [
    {
     "data": {
      "image/png": "[encoded data removed]",
      "text/plain": [
       "<Figure size 720x504 with 2 Axes>"
      ]
     },
     "metadata": {
      "needs_background": "light"
     },
     "output_type": "display_data"
    }
   ],
   "source": [
    "\n",
    "make_confusion_matrix(svc_, y_test)"
   ]
  },
  {
   "cell_type": "code",
   "execution_count": null,
   "id": "5d370b7f-bc8c-4374-af9e-3c791f641665",
   "metadata": {},
   "outputs": [],
   "source": []
  },
  {
   "cell_type": "code",
   "execution_count": null,
   "id": "5bd1e272-b12e-44b9-92fb-b606745a9eca",
   "metadata": {},
   "outputs": [],
   "source": []
  },
  {
   "cell_type": "markdown",
   "id": "86447297-868d-4220-8617-b24e9a0e039c",
   "metadata": {},
   "source": [
    "## Gradient Boost"
   ]
  },
  {
   "cell_type": "code",
   "execution_count": 118,
   "id": "0ce53681-ae55-41e3-b4e5-9ab4583bab99",
   "metadata": {
    "id": "JLHEDdLmDIIL",
    "outputId": "28bfd874-6e95-44eb-9930-a55d0092e57b"
   },
   "outputs": [
    {
     "name": "stdout",
     "output_type": "stream",
     "text": [
      "Wall time: 2.92 s\n"
     ]
    },
    {
     "data": {
      "image/png": "[encoded data removed]",
      "text/plain": [
       "<Figure size 720x504 with 2 Axes>"
      ]
     },
     "metadata": {
      "needs_background": "light"
     },
     "output_type": "display_data"
    }
   ],
   "source": [
    "%%time\n",
    "#Fitting the model\n",
    "gbc = GradientBoostingClassifier(random_state=1)\n",
    "gbc.fit(X_train_sc,y_train)\n",
    "\n",
    "\n",
    "#Creating confusion matrix\n",
    "make_confusion_matrix(gbc,y_test)"
   ]
  },
  {
   "cell_type": "code",
   "execution_count": 119,
   "id": "b4bcf439-f0f7-45f1-9e7e-284c6a68aab7",
   "metadata": {},
   "outputs": [
    {
     "name": "stdout",
     "output_type": "stream",
     "text": [
      "Accuracy on training set :  0.9896125772038181\n",
      "Accuracy on test set :  0.9672560576293385\n",
      "Recall on training set :  0.976643598615917\n",
      "Recall on test set :  0.9354838709677419\n",
      "Precision on training set :  0.9912203687445127\n",
      "Precision on test set :  0.9626556016597511\n",
      "Cross val score :  0.9637813795168382\n"
     ]
    },
    {
     "data": {
      "text/plain": [
       "[0.9896125772038181,\n",
       " 0.9672560576293385,\n",
       " 0.976643598615917,\n",
       " 0.9354838709677419,\n",
       " 0.9912203687445127,\n",
       " 0.9626556016597511]"
      ]
     },
     "execution_count": 119,
     "metadata": {},
     "output_type": "execute_result"
    }
   ],
   "source": [
    "\n",
    "#Calculating different metrics\n",
    "get_metrics_score(gbc)"
   ]
  },
  {
   "cell_type": "markdown",
   "id": "f5072209-f5cf-45a6-9c21-629a0f24d605",
   "metadata": {
    "id": "sGAt02cwDIIL"
   },
   "source": [
    "- The model is slightly overfitting the training data in terms of recall and precision but is giving very low recall on training and test data.\n",
    "- The recall is better as compared to AdaBoost with default parameters but still not great."
   ]
  },
  {
   "cell_type": "markdown",
   "id": "fbe95280-d64b-46ef-9dc8-c98a837e5e38",
   "metadata": {
    "id": "XNNUiYtFDIIL"
   },
   "source": [
    "# Grid Search"
   ]
  },
  {
   "cell_type": "code",
   "execution_count": 120,
   "id": "fed27397-1749-4b17-a7ec-ed1bcd0cc984",
   "metadata": {
    "id": "Q4S1_aPsDIIL",
    "outputId": "c3a77611-628a-44d5-9dbd-120f432ef467"
   },
   "outputs": [
    {
     "name": "stdout",
     "output_type": "stream",
     "text": [
      "Wall time: 2min 39s\n"
     ]
    },
    {
     "data": {
      "text/plain": [
       "GradientBoostingClassifier(init=AdaBoostClassifier(random_state=1),\n",
       "                           max_features=0.7, random_state=1, subsample=0.8)"
      ]
     },
     "execution_count": 120,
     "metadata": {},
     "output_type": "execute_result"
    }
   ],
   "source": [
    "%%time\n",
    "# Choose the type of classifier. \n",
    "gbc_tuned = GradientBoostingClassifier(init=AdaBoostClassifier(random_state=1),random_state=1)\n",
    "\n",
    "# Grid of parameters to choose from\n",
    "parameters = {\n",
    "    \"n_estimators\": [100,150,200,250],\n",
    "    \"subsample\":[0.8,0.9,1],\n",
    "    \"max_features\":[0.7,0.8,0.9,1]\n",
    "}\n",
    "\n",
    "# Type of scoring used to compare parameter combinations\n",
    "acc_scorer = metrics.make_scorer(metrics.recall_score)\n",
    "\n",
    "# Run the grid search\n",
    "grid_obj = GridSearchCV(gbc_tuned, parameters, scoring=acc_scorer,n_jobs = -1,cv=5)\n",
    "grid_obj = grid_obj.fit(X_train_sc, y_train)\n",
    "\n",
    "# Set the clf to the best combination of parameters\n",
    "gbc_tuned = grid_obj.best_estimator_\n",
    "\n",
    "# Fit the best algorithm to the data.\n",
    "gbc_tuned.fit(X_train_sc, y_train)"
   ]
  },
  {
   "cell_type": "code",
   "execution_count": 121,
   "id": "de80f04e-600d-4c00-960b-69fa7a38af59",
   "metadata": {},
   "outputs": [
    {
     "name": "stdout",
     "output_type": "stream",
     "text": [
      "Accuracy on training set :  0.9921392476137002\n",
      "Accuracy on test set :  0.9672560576293385\n",
      "Recall on training set :  0.9818339100346021\n",
      "Recall on test set :  0.9354838709677419\n",
      "Precision on training set :  0.9938704028021016\n",
      "Precision on test set :  0.9626556016597511\n",
      "Cross val score :  0.965185479931292\n"
     ]
    },
    {
     "data": {
      "text/plain": [
       "[0.9921392476137002,\n",
       " 0.9672560576293385,\n",
       " 0.9818339100346021,\n",
       " 0.9354838709677419,\n",
       " 0.9938704028021016,\n",
       " 0.9626556016597511]"
      ]
     },
     "execution_count": 121,
     "metadata": {},
     "output_type": "execute_result"
    }
   ],
   "source": [
    "#Calculating different metrics\n",
    "get_metrics_score(gbc_tuned)\n"
   ]
  },
  {
   "cell_type": "code",
   "execution_count": 122,
   "id": "799b3e66-4829-4272-86de-9f056ea9aa94",
   "metadata": {
    "id": "44OgSP_hDIIM",
    "outputId": "b1ee17bc-fb1e-4e33-db97-8e6e07d2e34b"
   },
   "outputs": [
    {
     "data": {
      "image/png": "[encoded data removed]",
      "text/plain": [
       "<Figure size 720x504 with 2 Axes>"
      ]
     },
     "metadata": {
      "needs_background": "light"
     },
     "output_type": "display_data"
    }
   ],
   "source": [
    "\n",
    "#Creating confusion matrix\n",
    "make_confusion_matrix(gbc_tuned,y_test)"
   ]
  },
  {
   "cell_type": "markdown",
   "id": "0e6e6877-29aa-4b3c-b7ef-dcf866566e9d",
   "metadata": {
    "id": "dSRAmagjDIIM"
   },
   "source": [
    "- The model performance has improved slightly after hyperparameter tuning but the model is still overfitting the training data.\n",
    "- The test precision has decreased slightly and the test recall has increased slightly but still very low. "
   ]
  },
  {
   "cell_type": "code",
   "execution_count": 128,
   "id": "82c81447-eb92-4813-8062-86d65af9761e",
   "metadata": {},
   "outputs": [
    {
     "data": {
      "text/plain": [
       "no     0.675378\n",
       "yes    0.324622\n",
       "Name: gdp_cat, dtype: float64"
      ]
     },
     "execution_count": 128,
     "metadata": {},
     "output_type": "execute_result"
    }
   ],
   "source": [
    "y.value_counts(normalize=True)"
   ]
  },
  {
   "cell_type": "code",
   "execution_count": null,
   "id": "fb0d2c7f-811c-42c3-a6b5-563616305b67",
   "metadata": {},
   "outputs": [],
   "source": []
  },
  {
   "cell_type": "code",
   "execution_count": 133,
   "id": "1fd49977-dabe-45d6-90f9-8b467f00db3a",
   "metadata": {},
   "outputs": [
    {
     "data": {
      "image/png": "[encoded data removed]",
      "text/plain": [
       "<Figure size 864x864 with 1 Axes>"
      ]
     },
     "metadata": {
      "needs_background": "light"
     },
     "output_type": "display_data"
    },
    {
     "data": {
      "text/plain": [
       "<Figure size 432x288 with 0 Axes>"
      ]
     },
     "metadata": {},
     "output_type": "display_data"
    }
   ],
   "source": [
    "feature_names = X_train.columns\n",
    "importances = rf.feature_importances_\n",
    "indices = np.argsort(importances)\n",
    "\n",
    "plt.figure(figsize=(12,12))\n",
    "plt.title('Feature Importances')\n",
    "plt.barh(range(len(indices)), importances[indices], color='silver', align='center')\n",
    "plt.yticks(range(len(indices)), [feature_names[i] for i in indices])\n",
    "plt.xlabel('Relative Importance')\n",
    "plt.show()\n",
    "plt.savefig('images/feature_importance.jpg', dpi = 250)"
   ]
  },
  {
   "cell_type": "code",
   "execution_count": 124,
   "id": "fda80d5b-1342-45d8-9e59-a74743fcf954",
   "metadata": {},
   "outputs": [],
   "source": [
    "#result of models\n",
    "model = pd.read_csv('datasets/classification.txt', delimiter=',')"
   ]
  },
  {
   "cell_type": "code",
   "execution_count": 125,
   "id": "7fa47cff-7abe-48a3-bb20-75beb0e25332",
   "metadata": {},
   "outputs": [
    {
     "data": {
      "text/html": [
       "<div>\n",
       "<style scoped>\n",
       "    .dataframe tbody tr th:only-of-type {\n",
       "        vertical-align: middle;\n",
       "    }\n",
       "\n",
       "    .dataframe tbody tr th {\n",
       "        vertical-align: top;\n",
       "    }\n",
       "\n",
       "    .dataframe thead th {\n",
       "        text-align: right;\n",
       "    }\n",
       "</style>\n",
       "<table border=\"1\" class=\"dataframe\">\n",
       "  <thead>\n",
       "    <tr style=\"text-align: right;\">\n",
       "      <th></th>\n",
       "      <th>model</th>\n",
       "      <th>train_score</th>\n",
       "      <th>test_score</th>\n",
       "      <th>recall_score_train</th>\n",
       "      <th>recall_score_test</th>\n",
       "      <th>precision_train</th>\n",
       "      <th>precision_test</th>\n",
       "      <th>cross_val_score</th>\n",
       "    </tr>\n",
       "  </thead>\n",
       "  <tbody>\n",
       "    <tr>\n",
       "      <th>0</th>\n",
       "      <td>Logistic_Regression</td>\n",
       "      <td>0.835486</td>\n",
       "      <td>0.814669</td>\n",
       "      <td>0.548443</td>\n",
       "      <td>0.479839</td>\n",
       "      <td>0.908309</td>\n",
       "      <td>0.904943</td>\n",
       "      <td>0.827619</td>\n",
       "    </tr>\n",
       "    <tr>\n",
       "      <th>1</th>\n",
       "      <td>Tuned_logreg</td>\n",
       "      <td>0.863841</td>\n",
       "      <td>0.844794</td>\n",
       "      <td>0.659170</td>\n",
       "      <td>0.598790</td>\n",
       "      <td>0.893318</td>\n",
       "      <td>0.886567</td>\n",
       "      <td>0.859064</td>\n",
       "    </tr>\n",
       "    <tr>\n",
       "      <th>2</th>\n",
       "      <td>knn</td>\n",
       "      <td>0.918866</td>\n",
       "      <td>0.863130</td>\n",
       "      <td>0.826990</td>\n",
       "      <td>0.717742</td>\n",
       "      <td>0.914833</td>\n",
       "      <td>0.837647</td>\n",
       "      <td>0.845593</td>\n",
       "    </tr>\n",
       "    <tr>\n",
       "      <th>3</th>\n",
       "      <td>tuned_knn</td>\n",
       "      <td>1.000000</td>\n",
       "      <td>0.849378</td>\n",
       "      <td>1.000000</td>\n",
       "      <td>0.665323</td>\n",
       "      <td>1.000000</td>\n",
       "      <td>0.837563</td>\n",
       "      <td>0.852892</td>\n",
       "    </tr>\n",
       "    <tr>\n",
       "      <th>4</th>\n",
       "      <td>Decision_Tree</td>\n",
       "      <td>1.000000</td>\n",
       "      <td>0.971185</td>\n",
       "      <td>1.000000</td>\n",
       "      <td>0.949597</td>\n",
       "      <td>1.000000</td>\n",
       "      <td>0.961224</td>\n",
       "      <td>0.969681</td>\n",
       "    </tr>\n",
       "    <tr>\n",
       "      <th>5</th>\n",
       "      <td>tuned_decision_tree</td>\n",
       "      <td>0.729927</td>\n",
       "      <td>0.719057</td>\n",
       "      <td>0.925606</td>\n",
       "      <td>0.915323</td>\n",
       "      <td>0.549846</td>\n",
       "      <td>0.539834</td>\n",
       "      <td>0.728521</td>\n",
       "    </tr>\n",
       "    <tr>\n",
       "      <th>6</th>\n",
       "      <td>bagged_d_tree</td>\n",
       "      <td>0.999719</td>\n",
       "      <td>0.979699</td>\n",
       "      <td>0.999135</td>\n",
       "      <td>0.951613</td>\n",
       "      <td>1.000000</td>\n",
       "      <td>0.985386</td>\n",
       "      <td>0.975009</td>\n",
       "    </tr>\n",
       "    <tr>\n",
       "      <th>7</th>\n",
       "      <td>tuned_bagged_d_tree</td>\n",
       "      <td>0.996070</td>\n",
       "      <td>0.979699</td>\n",
       "      <td>0.992215</td>\n",
       "      <td>0.955645</td>\n",
       "      <td>0.995660</td>\n",
       "      <td>0.981366</td>\n",
       "      <td>0.974450</td>\n",
       "    </tr>\n",
       "    <tr>\n",
       "      <th>8</th>\n",
       "      <td>random_forest</td>\n",
       "      <td>1.000000</td>\n",
       "      <td>0.985593</td>\n",
       "      <td>1.000000</td>\n",
       "      <td>0.971774</td>\n",
       "      <td>1.000000</td>\n",
       "      <td>0.983673</td>\n",
       "      <td>0.983154</td>\n",
       "    </tr>\n",
       "    <tr>\n",
       "      <th>9</th>\n",
       "      <td>tuned_random_forest</td>\n",
       "      <td>0.999439</td>\n",
       "      <td>0.983628</td>\n",
       "      <td>0.998270</td>\n",
       "      <td>0.961694</td>\n",
       "      <td>1.000000</td>\n",
       "      <td>0.987578</td>\n",
       "      <td>0.982873</td>\n",
       "    </tr>\n",
       "    <tr>\n",
       "      <th>10</th>\n",
       "      <td>ada_boost</td>\n",
       "      <td>0.948344</td>\n",
       "      <td>0.922069</td>\n",
       "      <td>0.906574</td>\n",
       "      <td>0.864919</td>\n",
       "      <td>0.932384</td>\n",
       "      <td>0.891892</td>\n",
       "      <td>0.934581</td>\n",
       "    </tr>\n",
       "    <tr>\n",
       "      <th>11</th>\n",
       "      <td>tuned_ada_boost</td>\n",
       "      <td>0.742841</td>\n",
       "      <td>0.744597</td>\n",
       "      <td>0.892734</td>\n",
       "      <td>0.891129</td>\n",
       "      <td>0.565789</td>\n",
       "      <td>0.568123</td>\n",
       "      <td>0.759401</td>\n",
       "    </tr>\n",
       "    <tr>\n",
       "      <th>12</th>\n",
       "      <td>svc</td>\n",
       "      <td>0.765020</td>\n",
       "      <td>0.754420</td>\n",
       "      <td>0.294118</td>\n",
       "      <td>0.266129</td>\n",
       "      <td>0.941828</td>\n",
       "      <td>0.923077</td>\n",
       "      <td>0.760245</td>\n",
       "    </tr>\n",
       "    <tr>\n",
       "      <th>13</th>\n",
       "      <td>Gradient_Boost</td>\n",
       "      <td>0.989613</td>\n",
       "      <td>0.967256</td>\n",
       "      <td>0.976644</td>\n",
       "      <td>0.935484</td>\n",
       "      <td>0.991220</td>\n",
       "      <td>0.962656</td>\n",
       "      <td>0.963781</td>\n",
       "    </tr>\n",
       "    <tr>\n",
       "      <th>14</th>\n",
       "      <td>tuned_gradient_boost</td>\n",
       "      <td>0.992139</td>\n",
       "      <td>0.967256</td>\n",
       "      <td>0.981834</td>\n",
       "      <td>0.935484</td>\n",
       "      <td>0.993870</td>\n",
       "      <td>0.962656</td>\n",
       "      <td>0.965185</td>\n",
       "    </tr>\n",
       "  </tbody>\n",
       "</table>\n",
       "</div>"
      ],
      "text/plain": [
       "                   model   train_score   test_score   recall_score_train  \\\n",
       "0    Logistic_Regression      0.835486     0.814669             0.548443   \n",
       "1           Tuned_logreg      0.863841     0.844794             0.659170   \n",
       "2                    knn      0.918866     0.863130             0.826990   \n",
       "3              tuned_knn      1.000000     0.849378             1.000000   \n",
       "4          Decision_Tree      1.000000     0.971185             1.000000   \n",
       "5    tuned_decision_tree      0.729927     0.719057             0.925606   \n",
       "6          bagged_d_tree      0.999719     0.979699             0.999135   \n",
       "7    tuned_bagged_d_tree      0.996070     0.979699             0.992215   \n",
       "8          random_forest      1.000000     0.985593             1.000000   \n",
       "9    tuned_random_forest      0.999439     0.983628             0.998270   \n",
       "10             ada_boost      0.948344     0.922069             0.906574   \n",
       "11       tuned_ada_boost      0.742841     0.744597             0.892734   \n",
       "12                   svc      0.765020     0.754420             0.294118   \n",
       "13        Gradient_Boost      0.989613     0.967256             0.976644   \n",
       "14  tuned_gradient_boost      0.992139     0.967256             0.981834   \n",
       "\n",
       "     recall_score_test   precision_train   precision_test   cross_val_score  \n",
       "0             0.479839          0.908309         0.904943          0.827619  \n",
       "1             0.598790          0.893318         0.886567          0.859064  \n",
       "2             0.717742          0.914833         0.837647          0.845593  \n",
       "3             0.665323          1.000000         0.837563          0.852892  \n",
       "4             0.949597          1.000000         0.961224          0.969681  \n",
       "5             0.915323          0.549846         0.539834          0.728521  \n",
       "6             0.951613          1.000000         0.985386          0.975009  \n",
       "7             0.955645          0.995660         0.981366          0.974450  \n",
       "8             0.971774          1.000000         0.983673          0.983154  \n",
       "9             0.961694          1.000000         0.987578          0.982873  \n",
       "10            0.864919          0.932384         0.891892          0.934581  \n",
       "11            0.891129          0.565789         0.568123          0.759401  \n",
       "12            0.266129          0.941828         0.923077          0.760245  \n",
       "13            0.935484          0.991220         0.962656          0.963781  \n",
       "14            0.935484          0.993870         0.962656          0.965185  "
      ]
     },
     "execution_count": 125,
     "metadata": {},
     "output_type": "execute_result"
    }
   ],
   "source": [
    "model.head(15)"
   ]
  },
  {
   "cell_type": "code",
   "execution_count": 126,
   "id": "0f506d78-3391-468b-a569-641251707674",
   "metadata": {},
   "outputs": [
    {
     "data": {
      "text/html": [
       "<div>\n",
       "<style scoped>\n",
       "    .dataframe tbody tr th:only-of-type {\n",
       "        vertical-align: middle;\n",
       "    }\n",
       "\n",
       "    .dataframe tbody tr th {\n",
       "        vertical-align: top;\n",
       "    }\n",
       "\n",
       "    .dataframe thead th {\n",
       "        text-align: right;\n",
       "    }\n",
       "</style>\n",
       "<table border=\"1\" class=\"dataframe\">\n",
       "  <thead>\n",
       "    <tr style=\"text-align: right;\">\n",
       "      <th></th>\n",
       "      <th>train_score</th>\n",
       "      <th>test_score</th>\n",
       "      <th>recall_score_train</th>\n",
       "      <th>recall_score_test</th>\n",
       "      <th>precision_train</th>\n",
       "      <th>precision_test</th>\n",
       "      <th>cross_val_score</th>\n",
       "    </tr>\n",
       "  </thead>\n",
       "  <tbody>\n",
       "    <tr>\n",
       "      <th>count</th>\n",
       "      <td>15.000000</td>\n",
       "      <td>15.000000</td>\n",
       "      <td>15.000000</td>\n",
       "      <td>15.000000</td>\n",
       "      <td>15.000000</td>\n",
       "      <td>15.000000</td>\n",
       "      <td>15.000000</td>\n",
       "    </tr>\n",
       "    <tr>\n",
       "      <th>mean</th>\n",
       "      <td>0.918754</td>\n",
       "      <td>0.889762</td>\n",
       "      <td>0.866782</td>\n",
       "      <td>0.804032</td>\n",
       "      <td>0.912471</td>\n",
       "      <td>0.880946</td>\n",
       "      <td>0.892137</td>\n",
       "    </tr>\n",
       "    <tr>\n",
       "      <th>std</th>\n",
       "      <td>0.103617</td>\n",
       "      <td>0.097243</td>\n",
       "      <td>0.208528</td>\n",
       "      <td>0.213882</td>\n",
       "      <td>0.149137</td>\n",
       "      <td>0.142224</td>\n",
       "      <td>0.092270</td>\n",
       "    </tr>\n",
       "    <tr>\n",
       "      <th>min</th>\n",
       "      <td>0.729927</td>\n",
       "      <td>0.719057</td>\n",
       "      <td>0.294118</td>\n",
       "      <td>0.266129</td>\n",
       "      <td>0.549846</td>\n",
       "      <td>0.539834</td>\n",
       "      <td>0.728521</td>\n",
       "    </tr>\n",
       "    <tr>\n",
       "      <th>25%</th>\n",
       "      <td>0.849663</td>\n",
       "      <td>0.829731</td>\n",
       "      <td>0.859862</td>\n",
       "      <td>0.691532</td>\n",
       "      <td>0.911571</td>\n",
       "      <td>0.862107</td>\n",
       "      <td>0.836606</td>\n",
       "    </tr>\n",
       "    <tr>\n",
       "      <th>50%</th>\n",
       "      <td>0.989613</td>\n",
       "      <td>0.922069</td>\n",
       "      <td>0.976644</td>\n",
       "      <td>0.915323</td>\n",
       "      <td>0.991220</td>\n",
       "      <td>0.923077</td>\n",
       "      <td>0.934581</td>\n",
       "    </tr>\n",
       "    <tr>\n",
       "      <th>75%</th>\n",
       "      <td>0.999579</td>\n",
       "      <td>0.975442</td>\n",
       "      <td>0.998702</td>\n",
       "      <td>0.950605</td>\n",
       "      <td>1.000000</td>\n",
       "      <td>0.972011</td>\n",
       "      <td>0.972066</td>\n",
       "    </tr>\n",
       "    <tr>\n",
       "      <th>max</th>\n",
       "      <td>1.000000</td>\n",
       "      <td>0.985593</td>\n",
       "      <td>1.000000</td>\n",
       "      <td>0.971774</td>\n",
       "      <td>1.000000</td>\n",
       "      <td>0.987578</td>\n",
       "      <td>0.983154</td>\n",
       "    </tr>\n",
       "  </tbody>\n",
       "</table>\n",
       "</div>"
      ],
      "text/plain": [
       "        train_score   test_score   recall_score_train   recall_score_test  \\\n",
       "count     15.000000    15.000000            15.000000           15.000000   \n",
       "mean       0.918754     0.889762             0.866782            0.804032   \n",
       "std        0.103617     0.097243             0.208528            0.213882   \n",
       "min        0.729927     0.719057             0.294118            0.266129   \n",
       "25%        0.849663     0.829731             0.859862            0.691532   \n",
       "50%        0.989613     0.922069             0.976644            0.915323   \n",
       "75%        0.999579     0.975442             0.998702            0.950605   \n",
       "max        1.000000     0.985593             1.000000            0.971774   \n",
       "\n",
       "        precision_train   precision_test   cross_val_score  \n",
       "count         15.000000        15.000000         15.000000  \n",
       "mean           0.912471         0.880946          0.892137  \n",
       "std            0.149137         0.142224          0.092270  \n",
       "min            0.549846         0.539834          0.728521  \n",
       "25%            0.911571         0.862107          0.836606  \n",
       "50%            0.991220         0.923077          0.934581  \n",
       "75%            1.000000         0.972011          0.972066  \n",
       "max            1.000000         0.987578          0.983154  "
      ]
     },
     "execution_count": 126,
     "metadata": {},
     "output_type": "execute_result"
    }
   ],
   "source": [
    "model.describe()"
   ]
  },
  {
   "cell_type": "code",
   "execution_count": 135,
   "id": "2f533f9d-db37-4ba9-a838-c958898d405f",
   "metadata": {},
   "outputs": [],
   "source": [
    "df.to_csv('datasets/classification.csv', index = False)"
   ]
  },
  {
   "cell_type": "code",
   "execution_count": null,
   "id": "b7fe6ed6-0d6b-4b00-a6d7-1b884f598e03",
   "metadata": {},
   "outputs": [],
   "source": []
  }
 ],
 "metadata": {
  "kernelspec": {
   "display_name": "Python 3 (ipykernel)",
   "language": "python",
   "name": "python3"
  },
  "language_info": {
   "codemirror_mode": {
    "name": "ipython",
    "version": 3
   },
   "file_extension": ".py",
   "mimetype": "text/x-python",
   "name": "python",
   "nbconvert_exporter": "python",
   "pygments_lexer": "ipython3",
   "version": "3.9.7"
  }
 },
 "nbformat": 4,
 "nbformat_minor": 5
}
